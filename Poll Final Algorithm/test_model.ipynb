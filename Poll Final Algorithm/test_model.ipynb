{
 "cells": [
  {
   "cell_type": "code",
   "execution_count": 1,
   "metadata": {},
   "outputs": [
    {
     "data": {
      "text/plain": [
       "0"
      ]
     },
     "execution_count": 1,
     "metadata": {},
     "output_type": "execute_result"
    }
   ],
   "source": [
    "from model import predict\n",
    "predict(0,101.0,65.0,28.0,125.0,24.6,0.237,22)"
   ]
  },
  {
   "cell_type": "code",
   "execution_count": 1,
   "metadata": {},
   "outputs": [
    {
     "name": "stdout",
     "output_type": "stream",
     "text": [
      "Intersection:\n",
      "(1981, 9)\n",
      "\n",
      "Union:\n",
      "(778, 9)\n"
     ]
    }
   ],
   "source": [
    "import pandas as pd\n",
    "\n",
    "# Assuming df_1 and df_2 are your two DataFrames\n",
    "\n",
    "# Read the datasets\n",
    "df_1 = pd.read_csv('../Input/dataset.csv')\n",
    "df_2 = pd.read_csv('../Input/diabetes_original.csv')\n",
    "\n",
    "# Intersection\n",
    "intersection_df = pd.merge(df_1, df_2, how='inner')\n",
    "\n",
    "# Union\n",
    "union_df = pd.concat([df_1, df_2]).drop_duplicates()\n",
    "\n",
    "# Display the results\n",
    "print(\"Intersection:\")\n",
    "print(intersection_df.shape)\n",
    "\n",
    "print(\"\\nUnion:\")\n",
    "print(union_df.shape)"
   ]
  }
 ],
 "metadata": {
  "kernelspec": {
   "display_name": "base",
   "language": "python",
   "name": "python3"
  },
  "language_info": {
   "codemirror_mode": {
    "name": "ipython",
    "version": 3
   },
   "file_extension": ".py",
   "mimetype": "text/x-python",
   "name": "python",
   "nbconvert_exporter": "python",
   "pygments_lexer": "ipython3",
   "version": "3.9.17"
  }
 },
 "nbformat": 4,
 "nbformat_minor": 2
}
